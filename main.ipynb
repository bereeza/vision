{
 "cells": [
  {
   "cell_type": "markdown",
   "metadata": {},
   "source": [
    "### Dependencies"
   ]
  },
  {
   "cell_type": "code",
   "execution_count": 1,
   "metadata": {},
   "outputs": [],
   "source": [
    "import cv2 as cv\n",
    "import numpy as np"
   ]
  },
  {
   "cell_type": "code",
   "execution_count": 2,
   "metadata": {},
   "outputs": [],
   "source": [
    "DEFAULT_FILTER = cv.COLOR_BGR2GRAY"
   ]
  },
  {
   "cell_type": "code",
   "execution_count": null,
   "metadata": {},
   "outputs": [],
   "source": [
    "WIN_NAME = \"img2gray\"\n",
    "\n",
    "def im2gray(path: str) -> None:\n",
    "    try:\n",
    "        src = cv.imread(path)\n",
    "        \n",
    "        if src is None:  \n",
    "            raise FileNotFoundError(f\"Image not found at path: {path}\")\n",
    "        \n",
    "        img = cv.cvtColor(src, DEFAULT_FILTER)\n",
    "        cv.imshow(WIN_NAME, img)\n",
    "        cv.waitKey(0)\n",
    "        cv.imwrite(f'{path}-2gray.png', img)\n",
    "    except FileNotFoundError as e:\n",
    "        print(f\"Something went wrong: {e}\")"
   ]
  },
  {
   "cell_type": "code",
   "execution_count": 3,
   "metadata": {},
   "outputs": [],
   "source": [
    "SRC = \"ford.png\"\n",
    "\n",
    "im2gray(SRC)"
   ]
  },
  {
   "cell_type": "code",
   "execution_count": 2,
   "metadata": {},
   "outputs": [],
   "source": [
    "class HSVColor:\n",
    "    def __init__(self, lower: np.ndarray, upper: np.ndarray):\n",
    "        self.lower = lower\n",
    "        self.upper = upper"
   ]
  },
  {
   "cell_type": "code",
   "execution_count": null,
   "metadata": {},
   "outputs": [],
   "source": [
    "blueMask= HSVColor(np.array([100, 150, 50]), np.array([140, 255, 255]))\n",
    "\n",
    "# ip: http://esp-ip:81/stream\n",
    "cam = cv.VideoCapture(0)\n",
    "\n",
    "while True:\n",
    "    if not cam.isOpened():\n",
    "        print(f'Camera not found')\n",
    "        exit()\n",
    "\n",
    "    _, frame = cam.read()\n",
    "    hsv = cv.cvtColor(frame, cv.COLOR_BGR2HLS)\n",
    "    filterMask = cv.inRange(hsv, blueMask.lower, blueMask.upper)\n",
    "\n",
    "    cv.imshow('HSV result', frame)\n",
    "    contours, _ = cv.findContours(filterMask, cv.RETR_EXTERNAL, cv.CHAIN_APPROX_SIMPLE)\n",
    "\n",
    "    for contour in contours:\n",
    "        x, y, w, h = cv.boundingRect(contour)\n",
    "        cv.rectangle(frame, (x, y), (x+w, y+h), (0, 255, 0), 2)\n",
    "\n",
    "    if cv.waitKey(1) == ord('q'):\n",
    "        break\n",
    "\n",
    "cam.release()\n",
    "cv.destroyAllWindows()"
   ]
  }
 ],
 "metadata": {
  "kernelspec": {
   "display_name": "venv",
   "language": "python",
   "name": "python3"
  },
  "language_info": {
   "codemirror_mode": {
    "name": "ipython",
    "version": 3
   },
   "file_extension": ".py",
   "mimetype": "text/x-python",
   "name": "python",
   "nbconvert_exporter": "python",
   "pygments_lexer": "ipython3",
   "version": "3.9.13"
  }
 },
 "nbformat": 4,
 "nbformat_minor": 2
}
