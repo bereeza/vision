{
 "cells": [
  {
   "cell_type": "markdown",
   "metadata": {},
   "source": [
    "### Dependencies"
   ]
  },
  {
   "cell_type": "code",
   "execution_count": 2,
   "metadata": {},
   "outputs": [],
   "source": [
    "import cv2 as cv\n",
    "import numpy as np"
   ]
  },
  {
   "cell_type": "code",
   "execution_count": 4,
   "metadata": {},
   "outputs": [],
   "source": [
    "WIN_NAME = \"img2gray\"\n",
    "BG2GRAY = cv.COLOR_BGR2GRAY\n",
    "\n",
    "def im2gray(path: str) -> None:\n",
    "    try:\n",
    "        src = cv.imread(path)\n",
    "        \n",
    "        if src is None:  \n",
    "            raise FileNotFoundError(f\"Image not found at path: {path}\")\n",
    "        \n",
    "        img = cv.cvtColor(src, BG2GRAY)\n",
    "        cv.imshow(WIN_NAME, img)\n",
    "        cv.waitKey(0)\n",
    "        cv.imwrite(f'{path}-2gray.png', img)\n",
    "    except FileNotFoundError as e:\n",
    "        print(f\"Something went wrong: {e}\")"
   ]
  },
  {
   "cell_type": "code",
   "execution_count": 5,
   "metadata": {},
   "outputs": [],
   "source": [
    "SRC = \"ford.png\"\n",
    "\n",
    "im2gray(SRC)"
   ]
  },
  {
   "cell_type": "code",
   "execution_count": null,
   "metadata": {},
   "outputs": [],
   "source": [
    "DEFAULT_CAM = 0\n",
    "\n",
    "def getCam(cam: int = DEFAULT_CAM) -> None:\n",
    "    cam = cv.VideoCapture(cam)\n",
    "\n",
    "    while cam.isOpened():\n",
    "        _, frame = cam.read()\n",
    "        cv.imshow('Camera', frame)\n",
    "\n",
    "        if cv.waitKey(1) == ord('q'):\n",
    "            break\n",
    "\n",
    "    cam.release()\n",
    "    cv.destroyAllWindows()"
   ]
  }
 ],
 "metadata": {
  "kernelspec": {
   "display_name": "venv",
   "language": "python",
   "name": "python3"
  },
  "language_info": {
   "codemirror_mode": {
    "name": "ipython",
    "version": 3
   },
   "file_extension": ".py",
   "mimetype": "text/x-python",
   "name": "python",
   "nbconvert_exporter": "python",
   "pygments_lexer": "ipython3",
   "version": "3.9.13"
  }
 },
 "nbformat": 4,
 "nbformat_minor": 2
}
